{
 "cells": [
  {
   "cell_type": "markdown",
   "metadata": {},
   "source": [
    "Q1.  Convert a 1-D array into a 2-D array with 3 rows. \n",
    "Start with: \n",
    "Assign-1 = np.array([0, 1, 2, 3, 4, 5, 6, 7, 8]) \n",
    "Desired output: \n",
    "[[ 0, 1, 2] \n",
    "[3, 4, 5] \n",
    "[6, 7, 8]]"
   ]
  },
  {
   "cell_type": "code",
   "execution_count": null,
   "metadata": {},
   "outputs": [],
   "source": []
  },
  {
   "cell_type": "markdown",
   "metadata": {},
   "source": [
    "Q2.  Replace all odd numbers in the given array with -1 \n",
    "Start with: \n",
    "Assign-2 = np.array([0, 1, 2, 3, 4, 5, 6, 7, 8, 9]) \n",
    "Desired output: \n",
    "[ 0, -1, 2, -1, 4, -1, 6, -1, 8, -1]"
   ]
  },
  {
   "cell_type": "code",
   "execution_count": null,
   "metadata": {},
   "outputs": [],
   "source": []
  },
  {
   "cell_type": "markdown",
   "metadata": {},
   "source": [
    "Q3.  Find the positions of elements in x where its value is more than its corresponding element in y, and elements in x where its value is \n",
    "equals to its corresponding element in y. \n",
    "Start with these: \n",
    "x = np.array([21, 64, 86, 22, 74, 55, 81, 79, 90, 89])  \n",
    "y = np.array([21, 7, 3, 45, 10, 29, 55, 4, 37, 18]) \n",
    "Desired output: \n",
    "(array([1, 2, 4, 5, 6, 7, 8, 9]),) and (array([0]),) "
   ]
  },
  {
   "cell_type": "code",
   "execution_count": null,
   "metadata": {},
   "outputs": [],
   "source": []
  },
  {
   "cell_type": "markdown",
   "metadata": {},
   "source": [
    "Q4. . Extract the first four columns of this 2-D array. \n",
    "Start with this:  \n",
    "Assign-4= np.arange(100).reshape(5,-1) \n",
    "Desired output: \n",
    "[[ 0 1 2 3] \n",
    "[20 21 22 23] \n",
    "[40 41 42 43] \n",
    "[60 61 62 63] \n",
    "[80 81 82 83]]"
   ]
  },
  {
   "cell_type": "code",
   "execution_count": null,
   "metadata": {},
   "outputs": [],
   "source": []
  },
  {
   "cell_type": "markdown",
   "metadata": {},
   "source": []
  },
  {
   "cell_type": "code",
   "execution_count": null,
   "metadata": {},
   "outputs": [],
   "source": []
  }
 ],
 "metadata": {
  "kernelspec": {
   "display_name": "Python 3",
   "language": "python",
   "name": "python3"
  },
  "language_info": {
   "codemirror_mode": {
    "name": "ipython",
    "version": 3
   },
   "file_extension": ".py",
   "mimetype": "text/x-python",
   "name": "python",
   "nbconvert_exporter": "python",
   "pygments_lexer": "ipython3",
   "version": "3.12.4"
  }
 },
 "nbformat": 4,
 "nbformat_minor": 2
}
