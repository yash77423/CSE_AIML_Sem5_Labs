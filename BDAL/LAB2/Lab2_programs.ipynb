{
 "cells": [
  {
   "cell_type": "markdown",
   "id": "96119160",
   "metadata": {},
   "source": [
    "# LAB 2"
   ]
  },
  {
   "cell_type": "markdown",
   "id": "a203c95f",
   "metadata": {},
   "source": [
    "Tasks to do:\n",
    "\n",
    "1. Install Hadoop in Pseudo distributed mode\n",
    "\n",
    "2. Execute the command to list the files in HDFS\n",
    "\n",
    "3. Install zookeper\n",
    "\n",
    "4. Install Kafka\n",
    "\n",
    "5. Execute one server and two clients in Kafka server and pass the message from server to client in Kafka."
   ]
  },
  {
   "cell_type": "code",
   "execution_count": null,
   "id": "d83b274f",
   "metadata": {},
   "outputs": [],
   "source": []
  }
 ],
 "metadata": {
  "kernelspec": {
   "display_name": "Python 3 (ipykernel)",
   "language": "python",
   "name": "python3"
  },
  "language_info": {
   "codemirror_mode": {
    "name": "ipython",
    "version": 3
   },
   "file_extension": ".py",
   "mimetype": "text/x-python",
   "name": "python",
   "nbconvert_exporter": "python",
   "pygments_lexer": "ipython3",
   "version": "3.10.12"
  }
 },
 "nbformat": 4,
 "nbformat_minor": 5
}
