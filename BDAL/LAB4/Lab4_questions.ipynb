{
 "cells": [
  {
   "cell_type": "markdown",
   "id": "7026603f",
   "metadata": {},
   "source": [
    "# LAB 4: Entity Resolution Application using PySpark"
   ]
  },
  {
   "cell_type": "code",
   "execution_count": 2,
   "id": "45a1d691",
   "metadata": {},
   "outputs": [],
   "source": [
    "import pyspark\n",
    "import pandas as pd"
   ]
  },
  {
   "cell_type": "markdown",
   "id": "5299f19a",
   "metadata": {},
   "source": [
    "1. Cleaning and Preprocessing data (Tokenization and Normalization)"
   ]
  },
  {
   "cell_type": "code",
   "execution_count": 3,
   "id": "7d9b238a",
   "metadata": {},
   "outputs": [
    {
     "name": "stderr",
     "output_type": "stream",
     "text": [
      "/usr/lib/python3/dist-packages/scipy/__init__.py:146: UserWarning: A NumPy version >=1.17.3 and <1.25.0 is required for this version of SciPy (detected version 1.26.0\n",
      "  warnings.warn(f\"A NumPy version >={np_minversion} and <{np_maxversion}\"\n",
      "Setting default log level to \"WARN\".\n",
      "To adjust logging level use sc.setLogLevel(newLevel). For SparkR, use setLogLevel(newLevel).\n",
      "24/08/24 16:08:59 WARN NativeCodeLoader: Unable to load native-hadoop library for your platform... using builtin-java classes where applicable\n",
      "                                                                                \r"
     ]
    },
    {
     "name": "stdout",
     "output_type": "stream",
     "text": [
      "+---+----------+---------------+--------------------+------------------------------------+---------------------------------+------------------------------------------+\n",
      "|id |name      |normalized_name|filtered_name_tokens|address                             |normalized_address               |filtered_address_tokens                   |\n",
      "+---+----------+---------------+--------------------+------------------------------------+---------------------------------+------------------------------------------+\n",
      "|1  |John Smith|john smith     |[john, smith]       |1234 Elm St., Apt 4, New York, NY   |1234 elm st apt 4 new york ny    |[1234, elm, st, apt, 4, new, york, ny]    |\n",
      "|2  |jane doe  |jane doe       |[jane, doe]         |5678 Oak St., Apt 5, Los Angeles, CA|5678 oak st apt 5 los angeles ca |[5678, oak, st, apt, 5, los, angeles, ca] |\n",
      "|3  |John Smith|john smith     |[john, smith]       |1234 elm street, Apt 4, new york, ny|1234 elm street apt 4 new york ny|[1234, elm, street, apt, 4, new, york, ny]|\n",
      "+---+----------+---------------+--------------------+------------------------------------+---------------------------------+------------------------------------------+\n",
      "\n"
     ]
    }
   ],
   "source": [
    "from pyspark.sql import SparkSession\n",
    "from pyspark.sql.functions import col, lower, regexp_replace, udf\n",
    "from pyspark.sql.types import StringType\n",
    "from pyspark.ml.feature import Tokenizer, StopWordsRemover, RegexTokenizer\n",
    "import re\n",
    "\n",
    "# Initialize Spark session\n",
    "spark = SparkSession.builder \\\n",
    "    .appName(\"DataCleaningPreprocessing\") \\\n",
    "    .getOrCreate()\n",
    "\n",
    "# Sample DataFrame creation (Replace this with actual data loading)\n",
    "data = [\n",
    "    (1, \"John Smith\", \"1234 Elm St., Apt 4, New York, NY\"),\n",
    "    (2, \"jane doe\", \"5678 Oak St., Apt 5, Los Angeles, CA\"),\n",
    "    (3, \"John Smith\", \"1234 elm street, Apt 4, new york, ny\"),\n",
    "]\n",
    "\n",
    "columns = [\"id\", \"name\", \"address\"]\n",
    "\n",
    "df = spark.createDataFrame(data, columns)\n",
    "\n",
    "# Define a UDF for normalization (lowercasing and removing special characters)\n",
    "def normalize_text(text):\n",
    "    if text is None:\n",
    "        return None\n",
    "    text = text.lower()  # Convert to lowercase\n",
    "    text = re.sub(r'[^a-z0-9\\s]', '', text)  # Remove special characters\n",
    "    return text\n",
    "\n",
    "normalize_udf = udf(normalize_text, StringType())\n",
    "\n",
    "# Apply normalization\n",
    "df = df.withColumn(\"normalized_name\", normalize_udf(col(\"name\")))\n",
    "df = df.withColumn(\"normalized_address\", normalize_udf(col(\"address\")))\n",
    "\n",
    "# Tokenization of the text\n",
    "tokenizer = Tokenizer(inputCol=\"normalized_name\", outputCol=\"name_tokens\")\n",
    "df = tokenizer.transform(df)\n",
    "\n",
    "tokenizer = Tokenizer(inputCol=\"normalized_address\", outputCol=\"address_tokens\")\n",
    "df = tokenizer.transform(df)\n",
    "\n",
    "# Remove stop words from tokens (assuming English stop words)\n",
    "stopwords_remover = StopWordsRemover(inputCol=\"name_tokens\", outputCol=\"filtered_name_tokens\")\n",
    "df = stopwords_remover.transform(df)\n",
    "\n",
    "stopwords_remover = StopWordsRemover(inputCol=\"address_tokens\", outputCol=\"filtered_address_tokens\")\n",
    "df = stopwords_remover.transform(df)\n",
    "\n",
    "# Show the cleaned and tokenized DataFrame\n",
    "df.select(\"id\", \"name\", \"normalized_name\", \"filtered_name_tokens\", \"address\", \"normalized_address\", \"filtered_address_tokens\").show(truncate=False)\n",
    "\n",
    "# Stop the Spark session\n",
    "spark.stop()\n"
   ]
  },
  {
   "cell_type": "markdown",
   "id": "2c4a3eae",
   "metadata": {},
   "source": [
    "2. Computing similarity scores between records using a chosen similarity metric"
   ]
  },
  {
   "cell_type": "code",
   "execution_count": 4,
   "id": "17cf1e39",
   "metadata": {},
   "outputs": [
    {
     "name": "stderr",
     "output_type": "stream",
     "text": [
      "                                                                                \r"
     ]
    },
    {
     "name": "stdout",
     "output_type": "stream",
     "text": [
      "+---+---------------+---+---------------+------------------+\n",
      "| id|       features| id|       features|        similarity|\n",
      "+---+---------------+---+---------------+------------------+\n",
      "|1.0|[1.0, 2.0, 3.0]|2.0|[4.0, 5.0, 6.0]|0.9746318461970762|\n",
      "|1.0|[1.0, 2.0, 3.0]|3.0|[7.0, 8.0, 9.0]|0.9594119455666703|\n",
      "|2.0|[4.0, 5.0, 6.0]|3.0|[7.0, 8.0, 9.0]|0.9981908926857269|\n",
      "+---+---------------+---+---------------+------------------+\n",
      "\n"
     ]
    }
   ],
   "source": [
    "from pyspark.sql import SparkSession\n",
    "from pyspark.sql.functions import udf, col\n",
    "from pyspark.sql.types import StructType, StructField, ArrayType, DoubleType\n",
    "import math\n",
    "\n",
    "# Initialize SparkSession\n",
    "spark = SparkSession.builder \\\n",
    "    .appName(\"SimilarityComputation\") \\\n",
    "    .getOrCreate()\n",
    "\n",
    "# Define the schema for the DataFrame\n",
    "schema = StructType([\n",
    "    StructField(\"id\", DoubleType(), False),\n",
    "    StructField(\"features\", ArrayType(DoubleType()), False)\n",
    "])\n",
    "\n",
    "# Create sample data with float values\n",
    "data = [\n",
    "    (1.0, [1.0, 2.0, 3.0]),\n",
    "    (2.0, [4.0, 5.0, 6.0]),\n",
    "    (3.0, [7.0, 8.0, 9.0])\n",
    "]\n",
    "\n",
    "# Create the DataFrame\n",
    "df = spark.createDataFrame(data, schema=schema)\n",
    "\n",
    "# Define a UDF for cosine similarity using native Python\n",
    "def cosine_similarity(v1, v2):\n",
    "    dot_product = sum(a * b for a, b in zip(v1, v2))\n",
    "    norm_v1 = math.sqrt(sum(a * a for a in v1))\n",
    "    norm_v2 = math.sqrt(sum(b * b for b in v2))\n",
    "    if norm_v1 == 0 or norm_v2 == 0:\n",
    "        return 0.0\n",
    "    return dot_product / (norm_v1 * norm_v2)\n",
    "\n",
    "cosine_similarity_udf = udf(cosine_similarity, DoubleType())\n",
    "\n",
    "# Create a self-join to compute pairwise similarities\n",
    "df_cross = df.alias(\"df1\").crossJoin(df.alias(\"df2\"))\n",
    "\n",
    "# Calculate cosine similarity\n",
    "df_similarity = df_cross.withColumn(\n",
    "    \"similarity\",\n",
    "    cosine_similarity_udf(col(\"df1.features\"), col(\"df2.features\"))\n",
    ").filter(col(\"df1.id\") < col(\"df2.id\"))\n",
    "\n",
    "df_similarity.show()\n",
    "\n",
    "# Stop SparkSession\n",
    "spark.stop()\n"
   ]
  },
  {
   "cell_type": "markdown",
   "id": "a0c7ec21",
   "metadata": {},
   "source": [
    "3. Evaluating the precision, recall, and F1-score of an entity resolution model"
   ]
  },
  {
   "cell_type": "code",
   "execution_count": 5,
   "id": "5857cda8",
   "metadata": {},
   "outputs": [
    {
     "name": "stdout",
     "output_type": "stream",
     "text": [
      "Precision: 0.5000\n",
      "Recall: 0.5000\n",
      "F1-Score: 0.5000\n"
     ]
    }
   ],
   "source": [
    "from pyspark.sql import SparkSession\n",
    "from pyspark.sql.functions import col, when, count, sum\n",
    "from pyspark.sql.types import StructType, StructField, StringType, IntegerType\n",
    "\n",
    "# Initialize SparkSession\n",
    "spark = SparkSession.builder \\\n",
    "    .appName(\"EntityResolutionEvaluation\") \\\n",
    "    .getOrCreate()\n",
    "\n",
    "# Define schema\n",
    "schema = StructType([\n",
    "    StructField(\"id\", IntegerType(), False),\n",
    "    StructField(\"true_label\", StringType(), False),\n",
    "    StructField(\"predicted_label\", StringType(), False)\n",
    "])\n",
    "\n",
    "# Sample data\n",
    "data = [\n",
    "    (1, \"A\", \"A\"),\n",
    "    (2, \"B\", \"A\"),\n",
    "    (3, \"A\", \"B\"),\n",
    "    (4, \"B\", \"B\"),\n",
    "    (5, \"A\", \"A\"),\n",
    "    (6, \"B\", \"B\"),\n",
    "    (7, \"A\", \"B\"),\n",
    "    (8, \"B\", \"A\")\n",
    "]\n",
    "\n",
    "# Create DataFrame\n",
    "df = spark.createDataFrame(data, schema=schema)\n",
    "\n",
    "# Define metrics calculation\n",
    "def calculate_metrics(df):\n",
    "    # Count True Positives (TP), False Positives (FP), False Negatives (FN), and True Negatives (TN)\n",
    "    tp = df.filter((col(\"true_label\") == col(\"predicted_label\")) & (col(\"true_label\") == \"A\")).count()\n",
    "    fp = df.filter((col(\"true_label\") != col(\"predicted_label\")) & (col(\"predicted_label\") == \"A\")).count()\n",
    "    fn = df.filter((col(\"true_label\") != col(\"predicted_label\")) & (col(\"true_label\") == \"A\")).count()\n",
    "    tn = df.filter((col(\"true_label\") == col(\"predicted_label\")) & (col(\"true_label\") == \"B\")).count()\n",
    "    \n",
    "    # Compute precision, recall, and F1-score\n",
    "    precision = tp / (tp + fp) if (tp + fp) != 0 else 0\n",
    "    recall = tp / (tp + fn) if (tp + fn) != 0 else 0\n",
    "    f1_score = 2 * (precision * recall) / (precision + recall) if (precision + recall) != 0 else 0\n",
    "    \n",
    "    return precision, recall, f1_score\n",
    "\n",
    "# Calculate metrics\n",
    "precision, recall, f1_score = calculate_metrics(df)\n",
    "\n",
    "# Print results\n",
    "print(f\"Precision: {precision:.4f}\")\n",
    "print(f\"Recall: {recall:.4f}\")\n",
    "print(f\"F1-Score: {f1_score:.4f}\")\n",
    "\n",
    "# Stop SparkSession\n",
    "spark.stop()\n"
   ]
  },
  {
   "cell_type": "code",
   "execution_count": null,
   "id": "636ca771",
   "metadata": {},
   "outputs": [],
   "source": []
  }
 ],
 "metadata": {
  "kernelspec": {
   "display_name": "Python 3 (ipykernel)",
   "language": "python",
   "name": "python3"
  },
  "language_info": {
   "codemirror_mode": {
    "name": "ipython",
    "version": 3
   },
   "file_extension": ".py",
   "mimetype": "text/x-python",
   "name": "python",
   "nbconvert_exporter": "python",
   "pygments_lexer": "ipython3",
   "version": "3.10.12"
  }
 },
 "nbformat": 4,
 "nbformat_minor": 5
}
