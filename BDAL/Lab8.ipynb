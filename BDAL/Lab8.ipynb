{
 "cells": [
  {
   "cell_type": "code",
   "execution_count": 1,
   "id": "0c67ff80",
   "metadata": {},
   "outputs": [],
   "source": [
    "import pyspark\n",
    "# import os\n",
    "# import sys\n",
    "# from pyspark import SparkContext\n",
    "# os.environ['PYSPARK_PYTHON'] = sys.executable\n",
    "# os.environ['PYSPARK_DRIVER_PYTHON'] = sys.executable\n",
    "from pyspark.sql import SparkSession"
   ]
  },
  {
   "cell_type": "code",
   "execution_count": 3,
   "id": "fc4fcf89",
   "metadata": {},
   "outputs": [
    {
     "name": "stderr",
     "output_type": "stream",
     "text": [
      "Setting default log level to \"WARN\".\n",
      "To adjust logging level use sc.setLogLevel(newLevel). For SparkR, use setLogLevel(newLevel).\n",
      "24/10/08 15:27:48 WARN NativeCodeLoader: Unable to load native-hadoop library for your platform... using builtin-java classes where applicable\n"
     ]
    }
   ],
   "source": [
    "spark = SparkSession.builder.config(\"spark.driver.memory\", \"16g\").\\\n",
    "appName('chapter_8').getOrCreate()"
   ]
  },
  {
   "cell_type": "code",
   "execution_count": 8,
   "id": "3d2039c5",
   "metadata": {},
   "outputs": [
    {
     "name": "stdout",
     "output_type": "stream",
     "text": [
      "+---------+-----+-----+-----+-----+------+\n",
      "|     Date| Open| High|  Low|Close|Volume|\n",
      "+---------+-----+-----+-----+-----+------+\n",
      "|31-Dec-13|52.94|54.37|52.25|52.83| 79429|\n",
      "|30-Dec-13|50.36|54.10|50.36|52.95|131095|\n",
      "+---------+-----+-----+-----+-----+------+\n",
      "only showing top 2 rows\n",
      "\n"
     ]
    }
   ],
   "source": [
    "stocks = spark.read.csv([\"stocks/ABAX.csv\",\"stocks/AAME.csv\",\"stocks/AEPI.csv\"],\n",
    "                        header='true', inferSchema='true')\n",
    "\n",
    "stocks.show(2)"
   ]
  },
  {
   "cell_type": "code",
   "execution_count": 9,
   "id": "93e080f2",
   "metadata": {},
   "outputs": [
    {
     "name": "stdout",
     "output_type": "stream",
     "text": [
      "+---------+-----+-----+-----+-----+------+------+\n",
      "|     Date| Open| High|  Low|Close|Volume|Symbol|\n",
      "+---------+-----+-----+-----+-----+------+------+\n",
      "|31-Dec-13|52.94|54.37|52.25|52.83| 79429|  AEPI|\n",
      "|30-Dec-13|50.36|54.10|50.36|52.95|131095|  AEPI|\n",
      "+---------+-----+-----+-----+-----+------+------+\n",
      "only showing top 2 rows\n",
      "\n"
     ]
    }
   ],
   "source": [
    "from pyspark.sql import functions as fun\n",
    "stocks = stocks.withColumn(\"Symbol\", fun.input_file_name()).\\\n",
    "withColumn(\"Symbol\",\n",
    "           fun.element_at(fun.split(\"Symbol\", \"/\"), -1)).\\\n",
    "withColumn(\"Symbol\",\n",
    "           fun.element_at(fun.split(\"Symbol\", \"\\.\"), 1))\n",
    "stocks.show(2)"
   ]
  },
  {
   "cell_type": "code",
   "execution_count": 10,
   "id": "79af4411",
   "metadata": {},
   "outputs": [],
   "source": [
    "factors = spark.read.csv([\"stocks/ABAX.csv\",\"stocks/AAME.csv\",\"stocks/AEPI.csv\"], \n",
    "                         header='true', inferSchema='true')\n",
    "factors = factors.withColumn(\"Symbol\", fun.input_file_name()).\\\n",
    "withColumn(\"Symbol\",\n",
    "           fun.element_at(fun.split(\"Symbol\", \"/\"), -1)).\\\n",
    "withColumn(\"Symbol\",\n",
    "           fun.element_at(fun.split(\"Symbol\", \"\\.\"), 1))"
   ]
  },
  {
   "cell_type": "code",
   "execution_count": 11,
   "id": "2a019cd7",
   "metadata": {},
   "outputs": [],
   "source": [
    "from pyspark.sql import Window\n",
    "\n",
    "stocks = stocks.withColumn('count', fun.count('Symbol').\\\n",
    "                           over(Window.partitionBy('Symbol'))).\\\n",
    "filter(fun.col('count') > 260*5 + 10)"
   ]
  },
  {
   "cell_type": "code",
   "execution_count": 12,
   "id": "2c20299f",
   "metadata": {},
   "outputs": [
    {
     "data": {
      "text/plain": [
       "DataFrame[key: string, value: string]"
      ]
     },
     "execution_count": 12,
     "metadata": {},
     "output_type": "execute_result"
    }
   ],
   "source": [
    "spark.sql(\"set spark.sql.legacy.timeParserPolicy=LEGACY\")"
   ]
  },
  {
   "cell_type": "code",
   "execution_count": 13,
   "id": "1bf94728",
   "metadata": {},
   "outputs": [
    {
     "name": "stdout",
     "output_type": "stream",
     "text": [
      "root\n",
      " |-- Date: date (nullable = true)\n",
      " |-- Open: string (nullable = true)\n",
      " |-- High: string (nullable = true)\n",
      " |-- Low: string (nullable = true)\n",
      " |-- Close: double (nullable = true)\n",
      " |-- Volume: integer (nullable = true)\n",
      " |-- Symbol: string (nullable = true)\n",
      " |-- count: long (nullable = false)\n",
      "\n"
     ]
    }
   ],
   "source": [
    "stocks = stocks.withColumn('Date',\n",
    "                           fun.to_date(fun.to_timestamp(fun.col('Date'),\n",
    "                                                        'dd-MMM-yy')))\n",
    "stocks.printSchema()"
   ]
  },
  {
   "cell_type": "code",
   "execution_count": 14,
   "id": "79c91c53",
   "metadata": {},
   "outputs": [],
   "source": [
    "from datetime import datetime\n",
    "stocks = stocks.filter(fun.col('Date') >= datetime(2009, 10, 23)).\\\n",
    "filter(fun.col('Date') <= datetime(2014, 10, 23))"
   ]
  },
  {
   "cell_type": "code",
   "execution_count": 15,
   "id": "9b6380fe",
   "metadata": {},
   "outputs": [],
   "source": [
    "factors = factors.withColumn('Date',\n",
    "                             fun.to_date(fun.to_timestamp(fun.col('Date'),\n",
    "                                                          'dd-MMM-yy')))\n",
    "factors = factors.filter(fun.col('Date') >= datetime(2009, 10, 23)).\\\n",
    "filter(fun.col('Date') <= datetime(2014, 10, 23))"
   ]
  },
  {
   "cell_type": "code",
   "execution_count": 16,
   "id": "138b93bf",
   "metadata": {},
   "outputs": [
    {
     "name": "stderr",
     "output_type": "stream",
     "text": [
      "/home/lplab/.local/lib/python3.10/site-packages/pandas/core/arrays/masked.py:62: UserWarning: Pandas requires version '1.3.4' or newer of 'bottleneck' (version '1.3.2' currently installed).\n",
      "  from pandas.core import (\n"
     ]
    },
    {
     "data": {
      "text/html": [
       "<div>\n",
       "<style scoped>\n",
       "    .dataframe tbody tr th:only-of-type {\n",
       "        vertical-align: middle;\n",
       "    }\n",
       "\n",
       "    .dataframe tbody tr th {\n",
       "        vertical-align: top;\n",
       "    }\n",
       "\n",
       "    .dataframe thead th {\n",
       "        text-align: right;\n",
       "    }\n",
       "</style>\n",
       "<table border=\"1\" class=\"dataframe\">\n",
       "  <thead>\n",
       "    <tr style=\"text-align: right;\">\n",
       "      <th></th>\n",
       "      <th>Date</th>\n",
       "      <th>Open</th>\n",
       "      <th>High</th>\n",
       "      <th>Low</th>\n",
       "      <th>Close</th>\n",
       "      <th>Volume</th>\n",
       "      <th>Symbol</th>\n",
       "    </tr>\n",
       "  </thead>\n",
       "  <tbody>\n",
       "    <tr>\n",
       "      <th>0</th>\n",
       "      <td>2013-12-31</td>\n",
       "      <td>52.94</td>\n",
       "      <td>54.37</td>\n",
       "      <td>52.25</td>\n",
       "      <td>52.83</td>\n",
       "      <td>79429</td>\n",
       "      <td>AEPI</td>\n",
       "    </tr>\n",
       "    <tr>\n",
       "      <th>1</th>\n",
       "      <td>2013-12-30</td>\n",
       "      <td>50.36</td>\n",
       "      <td>54.10</td>\n",
       "      <td>50.36</td>\n",
       "      <td>52.95</td>\n",
       "      <td>131095</td>\n",
       "      <td>AEPI</td>\n",
       "    </tr>\n",
       "    <tr>\n",
       "      <th>2</th>\n",
       "      <td>2013-12-27</td>\n",
       "      <td>50.38</td>\n",
       "      <td>50.80</td>\n",
       "      <td>49.67</td>\n",
       "      <td>50.52</td>\n",
       "      <td>54354</td>\n",
       "      <td>AEPI</td>\n",
       "    </tr>\n",
       "    <tr>\n",
       "      <th>3</th>\n",
       "      <td>2013-12-26</td>\n",
       "      <td>50.50</td>\n",
       "      <td>51.19</td>\n",
       "      <td>49.67</td>\n",
       "      <td>50.00</td>\n",
       "      <td>74414</td>\n",
       "      <td>AEPI</td>\n",
       "    </tr>\n",
       "    <tr>\n",
       "      <th>4</th>\n",
       "      <td>2013-12-24</td>\n",
       "      <td>49.85</td>\n",
       "      <td>50.60</td>\n",
       "      <td>49.66</td>\n",
       "      <td>49.99</td>\n",
       "      <td>36872</td>\n",
       "      <td>AEPI</td>\n",
       "    </tr>\n",
       "  </tbody>\n",
       "</table>\n",
       "</div>"
      ],
      "text/plain": [
       "         Date   Open   High    Low  Close  Volume Symbol\n",
       "0  2013-12-31  52.94  54.37  52.25  52.83   79429   AEPI\n",
       "1  2013-12-30  50.36  54.10  50.36  52.95  131095   AEPI\n",
       "2  2013-12-27  50.38  50.80  49.67  50.52   54354   AEPI\n",
       "3  2013-12-26  50.50  51.19  49.67  50.00   74414   AEPI\n",
       "4  2013-12-24  49.85  50.60  49.66  49.99   36872   AEPI"
      ]
     },
     "execution_count": 16,
     "metadata": {},
     "output_type": "execute_result"
    }
   ],
   "source": [
    "stocks_pd_df = stocks.toPandas()\n",
    "factors_pd_df = factors.toPandas()\n",
    "factors_pd_df.head(5)"
   ]
  },
  {
   "cell_type": "code",
   "execution_count": 17,
   "id": "244eb094",
   "metadata": {},
   "outputs": [],
   "source": [
    "n_steps = 10\n",
    "def my_fun(x):\n",
    "    return ((x.iloc[-1] - x.iloc[0]) / x.iloc[0])\n",
    "\n",
    "stock_returns = stocks_pd_df.groupby('Symbol').Close.\\\n",
    "rolling(window=n_steps).apply(my_fun)\n",
    "factors_returns = factors_pd_df.groupby('Symbol').Close.\\\n",
    "rolling(window=n_steps).apply(my_fun)\n",
    "\n",
    "stock_returns = stock_returns.reset_index().\\\n",
    "sort_values('level_1').\\\n",
    "reset_index()\n",
    "factors_returns = factors_returns.reset_index().\\\n",
    "sort_values('level_1').\\\n",
    "reset_index()"
   ]
  },
  {
   "cell_type": "code",
   "execution_count": 18,
   "id": "cda9349f",
   "metadata": {},
   "outputs": [
    {
     "name": "stdout",
     "output_type": "stream",
     "text": [
      "0        Date  factors_returns_AAME  factors_returns_ABAX  \\\n",
      "0  2009-10-23              0.111111               0.10064   \n",
      "\n",
      "0  factors_returns_AEPI  factors_returns_squared_AAME  \\\n",
      "0              0.097994                      0.012346   \n",
      "\n",
      "0  factors_returns_squared_ABAX  factors_returns_squared_AEPI  \n",
      "0                      0.010128                      0.009603  \n"
     ]
    }
   ],
   "source": [
    "# Create combined stocks DF\n",
    "stocks_pd_df_with_returns = stocks_pd_df.\\\n",
    "assign(stock_returns = \\\n",
    "stock_returns['Close'])\n",
    "\n",
    "# Create combined factors DF\n",
    "factors_pd_df_with_returns = factors_pd_df.\\\n",
    "assign(factors_returns = \\\n",
    "       factors_returns['Close'],\n",
    "       factors_returns_squared = \\\n",
    "       factors_returns['Close']**2)\n",
    "factors_pd_df_with_returns = factors_pd_df_with_returns.\\\n",
    "pivot(index='Date',\n",
    "      columns='Symbol',\n",
    "      values=['factors_returns', \\\n",
    "              'factors_returns_squared'])\n",
    "factors_pd_df_with_returns.columns = factors_pd_df_with_returns.\\\n",
    "columns.\\\n",
    "to_series().\\\n",
    "str.\\\n",
    "join('_').\\\n",
    "reset_index()[0]\n",
    "\n",
    "factors_pd_df_with_returns = factors_pd_df_with_returns.\\\n",
    "reset_index()\n",
    "\n",
    "print(factors_pd_df_with_returns.head(1))"
   ]
  },
  {
   "cell_type": "code",
   "execution_count": 19,
   "id": "c67a4495",
   "metadata": {},
   "outputs": [
    {
     "name": "stdout",
     "output_type": "stream",
     "text": [
      "Index(['Date', 'factors_returns_AAME', 'factors_returns_ABAX',\n",
      "       'factors_returns_AEPI', 'factors_returns_squared_AAME',\n",
      "       'factors_returns_squared_ABAX', 'factors_returns_squared_AEPI'],\n",
      "      dtype='object', name=0)\n"
     ]
    }
   ],
   "source": [
    "print(factors_pd_df_with_returns.columns)"
   ]
  },
  {
   "cell_type": "code",
   "execution_count": 20,
   "id": "e2c257e8",
   "metadata": {},
   "outputs": [
    {
     "name": "stderr",
     "output_type": "stream",
     "text": [
      "/usr/lib/python3/dist-packages/scipy/__init__.py:146: UserWarning: A NumPy version >=1.17.3 and <1.25.0 is required for this version of SciPy (detected version 1.26.0\n",
      "  warnings.warn(f\"A NumPy version >={np_minversion} and <{np_maxversion}\"\n",
      "/tmp/ipykernel_11544/3065362436.py:12: FutureWarning: use_inf_as_na option is deprecated and will be removed in a future version. Convert inf values to NaN before operating instead.\n",
      "  with pd.option_context('mode.use_inf_as_na', True):\n",
      "/usr/lib/python3/dist-packages/sklearn/utils/validation.py:507: FutureWarning: is_sparse is deprecated and will be removed in a future version. Check `isinstance(dtype, pd.SparseDtype)` instead.\n",
      "  array.dtypes.apply(is_sparse).any()):\n",
      "/usr/lib/python3/dist-packages/sklearn/utils/validation.py:507: FutureWarning: is_sparse is deprecated and will be removed in a future version. Check `isinstance(dtype, pd.SparseDtype)` instead.\n",
      "  array.dtypes.apply(is_sparse).any()):\n",
      "/usr/lib/python3/dist-packages/sklearn/utils/validation.py:507: FutureWarning: is_sparse is deprecated and will be removed in a future version. Check `isinstance(dtype, pd.SparseDtype)` instead.\n",
      "  array.dtypes.apply(is_sparse).any()):\n"
     ]
    },
    {
     "data": {
      "text/html": [
       "<div>\n",
       "<style scoped>\n",
       "    .dataframe tbody tr th:only-of-type {\n",
       "        vertical-align: middle;\n",
       "    }\n",
       "\n",
       "    .dataframe tbody tr th {\n",
       "        vertical-align: top;\n",
       "    }\n",
       "\n",
       "    .dataframe thead th {\n",
       "        text-align: right;\n",
       "    }\n",
       "</style>\n",
       "<table border=\"1\" class=\"dataframe\">\n",
       "  <thead>\n",
       "    <tr style=\"text-align: right;\">\n",
       "      <th></th>\n",
       "      <th>Symbol</th>\n",
       "      <th>factors_returns_AAME</th>\n",
       "      <th>factors_returns_ABAX</th>\n",
       "      <th>factors_returns_AEPI</th>\n",
       "      <th>factors_returns_squared_AAME</th>\n",
       "      <th>factors_returns_squared_ABAX</th>\n",
       "      <th>factors_returns_squared_AEPI</th>\n",
       "    </tr>\n",
       "  </thead>\n",
       "  <tbody>\n",
       "    <tr>\n",
       "      <th>0</th>\n",
       "      <td>AAME</td>\n",
       "      <td>1.000000e+00</td>\n",
       "      <td>3.350059e-16</td>\n",
       "      <td>-1.273186e-17</td>\n",
       "      <td>-7.598231e-18</td>\n",
       "      <td>1.460911e-18</td>\n",
       "      <td>-2.187836e-18</td>\n",
       "    </tr>\n",
       "    <tr>\n",
       "      <th>1</th>\n",
       "      <td>ABAX</td>\n",
       "      <td>1.983357e-16</td>\n",
       "      <td>1.000000e+00</td>\n",
       "      <td>1.110223e-16</td>\n",
       "      <td>2.775558e-17</td>\n",
       "      <td>-8.326673e-17</td>\n",
       "      <td>-9.714451e-17</td>\n",
       "    </tr>\n",
       "    <tr>\n",
       "      <th>2</th>\n",
       "      <td>AEPI</td>\n",
       "      <td>-1.762984e-16</td>\n",
       "      <td>8.881784e-16</td>\n",
       "      <td>1.000000e+00</td>\n",
       "      <td>1.283695e-16</td>\n",
       "      <td>1.283695e-16</td>\n",
       "      <td>1.908196e-17</td>\n",
       "    </tr>\n",
       "  </tbody>\n",
       "</table>\n",
       "</div>"
      ],
      "text/plain": [
       "  Symbol  factors_returns_AAME  factors_returns_ABAX  factors_returns_AEPI  \\\n",
       "0   AAME          1.000000e+00          3.350059e-16         -1.273186e-17   \n",
       "1   ABAX          1.983357e-16          1.000000e+00          1.110223e-16   \n",
       "2   AEPI         -1.762984e-16          8.881784e-16          1.000000e+00   \n",
       "\n",
       "   factors_returns_squared_AAME  factors_returns_squared_ABAX  \\\n",
       "0                 -7.598231e-18                  1.460911e-18   \n",
       "1                  2.775558e-17                 -8.326673e-17   \n",
       "2                  1.283695e-16                  1.283695e-16   \n",
       "\n",
       "   factors_returns_squared_AEPI  \n",
       "0                 -2.187836e-18  \n",
       "1                 -9.714451e-17  \n",
       "2                  1.908196e-17  "
      ]
     },
     "execution_count": 20,
     "metadata": {},
     "output_type": "execute_result"
    }
   ],
   "source": [
    "import pandas as pd\n",
    "from sklearn.linear_model import LinearRegression\n",
    "\n",
    "# For each stock, create input DF for linear regression training\n",
    "\n",
    "stocks_factors_combined_df = pd.merge(stocks_pd_df_with_returns,\n",
    "                                      factors_pd_df_with_returns,\n",
    "                                      how=\"left\", on=\"Date\")\n",
    "\n",
    "feature_columns = list(stocks_factors_combined_df.columns[-6:])\n",
    "\n",
    "with pd.option_context('mode.use_inf_as_na', True):\n",
    "    stocks_factors_combined_df = stocks_factors_combined_df.\\\n",
    "    dropna(subset=feature_columns \\\n",
    "           + ['stock_returns'])\n",
    "\n",
    "\n",
    "def find_ols_coef(df):\n",
    "    y = df[['stock_returns']].values\n",
    "    X = df[feature_columns]\n",
    "    \n",
    "    regr = LinearRegression()\n",
    "    regr_output = regr.fit(X, y)\n",
    "    \n",
    "    return list(df[['Symbol']].values[0]) + \\\n",
    "                list(regr_output.coef_[0])\n",
    "\n",
    "coefs_per_stock = stocks_factors_combined_df.\\\n",
    "groupby('Symbol').\\\n",
    "apply(find_ols_coef)\n",
    "\n",
    "coefs_per_stock = pd.DataFrame(coefs_per_stock).reset_index()\n",
    "\n",
    "coefs_per_stock.columns = ['symbol', 'factor_coef_list']\n",
    "\n",
    "coefs_per_stock = pd.DataFrame(coefs_per_stock.\\\n",
    "                               factor_coef_list.tolist(),\n",
    "                               index=coefs_per_stock.index,\n",
    "                               columns = ['Symbol'] + feature_columns)\n",
    "\n",
    "coefs_per_stock"
   ]
  },
  {
   "cell_type": "code",
   "execution_count": 21,
   "id": "c13ed12f",
   "metadata": {},
   "outputs": [
    {
     "data": {
      "text/plain": [
       "<AxesSubplot:ylabel='Density'>"
      ]
     },
     "execution_count": 21,
     "metadata": {},
     "output_type": "execute_result"
    },
    {
     "data": {
      "image/png": "[encoded data removed]",
      "text/plain": [
       "<Figure size 432x288 with 1 Axes>"
      ]
     },
     "metadata": {
      "needs_background": "light"
     },
     "output_type": "display_data"
    }
   ],
   "source": [
    "samples = factors_returns.loc[factors_returns.Symbol == \\\n",
    "                              factors_returns.Symbol.unique()[0]]['Close']\n",
    "samples.plot.kde()"
   ]
  },
  {
   "cell_type": "code",
   "execution_count": 22,
   "id": "91e8ad80",
   "metadata": {},
   "outputs": [
    {
     "name": "stdout",
     "output_type": "stream",
     "text": [
      "1053 1053 1039\n"
     ]
    },
    {
     "data": {
      "text/html": [
       "<div>\n",
       "<style scoped>\n",
       "    .dataframe tbody tr th:only-of-type {\n",
       "        vertical-align: middle;\n",
       "    }\n",
       "\n",
       "    .dataframe tbody tr th {\n",
       "        vertical-align: top;\n",
       "    }\n",
       "\n",
       "    .dataframe thead th {\n",
       "        text-align: right;\n",
       "    }\n",
       "</style>\n",
       "<table border=\"1\" class=\"dataframe\">\n",
       "  <thead>\n",
       "    <tr style=\"text-align: right;\">\n",
       "      <th></th>\n",
       "      <th>f1</th>\n",
       "      <th>f2</th>\n",
       "      <th>f3</th>\n",
       "    </tr>\n",
       "  </thead>\n",
       "  <tbody>\n",
       "    <tr>\n",
       "      <th>f1</th>\n",
       "      <td>1.000000</td>\n",
       "      <td>0.275057</td>\n",
       "      <td>-0.015415</td>\n",
       "    </tr>\n",
       "    <tr>\n",
       "      <th>f2</th>\n",
       "      <td>0.275057</td>\n",
       "      <td>1.000000</td>\n",
       "      <td>0.031370</td>\n",
       "    </tr>\n",
       "    <tr>\n",
       "      <th>f3</th>\n",
       "      <td>-0.015415</td>\n",
       "      <td>0.031370</td>\n",
       "      <td>1.000000</td>\n",
       "    </tr>\n",
       "  </tbody>\n",
       "</table>\n",
       "</div>"
      ],
      "text/plain": [
       "          f1        f2        f3\n",
       "f1  1.000000  0.275057 -0.015415\n",
       "f2  0.275057  1.000000  0.031370\n",
       "f3 -0.015415  0.031370  1.000000"
      ]
     },
     "execution_count": 22,
     "metadata": {},
     "output_type": "execute_result"
    }
   ],
   "source": [
    "f_1 = factors_returns.loc[factors_returns.Symbol == \\\n",
    "                          factors_returns.Symbol.unique()[0]]['Close']\n",
    "f_2 = factors_returns.loc[factors_returns.Symbol == \\\n",
    "                          factors_returns.Symbol.unique()[1]]['Close']\n",
    "f_3 = factors_returns.loc[factors_returns.Symbol == \\\n",
    "                          factors_returns.Symbol.unique()[2]]['Close']\n",
    "\n",
    "print(f_1.size,len(f_2),f_3.size)\n",
    "pd.DataFrame({'f1': list(f_1)[1:1040], 'f2': list(f_2)[1:1040], 'f3':\n",
    "              list(f_3)}).corr()"
   ]
  },
  {
   "cell_type": "code",
   "execution_count": 23,
   "id": "dd9df200",
   "metadata": {},
   "outputs": [],
   "source": [
    "factors_returns_cov = pd.DataFrame({'f1': list(f_1)[1:1040],\n",
    "                                    'f2': list(f_2)[1:1040],\n",
    "                                    'f3': list(f_3)})\\\n",
    ".cov().to_numpy()\n",
    "factors_returns_mean = pd.DataFrame({'f1': list(f_1)[1:1040],\n",
    "                                     'f2': list(f_2)[1:1040],\n",
    "                                     'f3': list(f_3)}).\\\n",
    "mean()"
   ]
  },
  {
   "cell_type": "code",
   "execution_count": 24,
   "id": "0341f01c",
   "metadata": {},
   "outputs": [
    {
     "data": {
      "text/plain": [
       "array([-0.09690199, -0.01609523, -0.17216629])"
      ]
     },
     "execution_count": 24,
     "metadata": {},
     "output_type": "execute_result"
    }
   ],
   "source": [
    "from numpy.random import multivariate_normal\n",
    "\n",
    "multivariate_normal(factors_returns_mean, factors_returns_cov)"
   ]
  },
  {
   "cell_type": "code",
   "execution_count": 25,
   "id": "7331ddf8",
   "metadata": {},
   "outputs": [],
   "source": [
    "b_coefs_per_stock = spark.sparkContext.broadcast(coefs_per_stock)\n",
    "b_feature_columns = spark.sparkContext.broadcast(feature_columns)\n",
    "b_factors_returns_mean = spark.sparkContext.broadcast(factors_returns_mean)\n",
    "b_factors_returns_cov = spark.sparkContext.broadcast(factors_returns_cov)"
   ]
  },
  {
   "cell_type": "code",
   "execution_count": 26,
   "id": "31dc077d",
   "metadata": {},
   "outputs": [],
   "source": [
    "from pyspark.sql.types import IntegerType\n",
    "\n",
    "parallelism = 1000\n",
    "num_trials = 1000000\n",
    "base_seed = 1496\n",
    "\n",
    "seeds = [b for b in range(base_seed,\n",
    "                          base_seed + parallelism)]\n",
    "seedsDF = spark.createDataFrame(seeds, IntegerType())\n",
    "\n",
    "seedsDF = seedsDF.repartition(parallelism)"
   ]
  },
  {
   "cell_type": "code",
   "execution_count": 27,
   "id": "a72890e3",
   "metadata": {},
   "outputs": [],
   "source": [
    "import random\n",
    "from numpy.random import seed\n",
    "\n",
    "from pyspark.sql.types import LongType, ArrayType, DoubleType\n",
    "from pyspark.sql.functions import udf\n",
    "\n",
    "def calculate_trial_return(x):\n",
    "    # return x\n",
    "    trial_return_list = []\n",
    "    for i in range(int(num_trials/parallelism)):\n",
    "        random_int = random.randint(0, num_trials*num_trials)\n",
    "        \n",
    "        seed(x)\n",
    "        \n",
    "        random_factors = multivariate_normal(b_factors_returns_mean.value,\n",
    "                                             b_factors_returns_cov.value)\n",
    "        \n",
    "        coefs_per_stock_df = b_coefs_per_stock.value\n",
    "        returns_per_stock = (coefs_per_stock_df[b_feature_columns.value] *\n",
    "                             (list(random_factors) + list(random_factors**2)))\n",
    "        \n",
    "        trial_return_list.append(float(returns_per_stock.sum(axis=1).sum()/\n",
    "                                       b_coefs_per_stock.value.size))\n",
    "        \n",
    "        return trial_return_list\n",
    "\n",
    "udf_return = udf(calculate_trial_return, ArrayType(DoubleType()))"
   ]
  },
  {
   "cell_type": "code",
   "execution_count": 28,
   "id": "3a970a31",
   "metadata": {},
   "outputs": [
    {
     "data": {
      "text/plain": [
       "DataFrame[value: int, trial_return: double]"
      ]
     },
     "execution_count": 28,
     "metadata": {},
     "output_type": "execute_result"
    }
   ],
   "source": [
    "from pyspark.sql.functions import col, explode\n",
    "\n",
    "trials = seedsDF.withColumn(\"trial_return\", udf_return(col(\"value\")))\n",
    "trials = trials.select('value', explode('trial_return').alias('trial_return'))\n",
    "\n",
    "trials.cache()"
   ]
  },
  {
   "cell_type": "code",
   "execution_count": 29,
   "id": "d3423736",
   "metadata": {},
   "outputs": [
    {
     "name": "stderr",
     "output_type": "stream",
     "text": [
      "/home/lplab/.local/lib/python3.10/site-packages/pandas/core/arrays/masked.py:62: UserWarning: Pandas requires version '1.3.4' or newer of 'bottleneck' (version '1.3.2' currently installed).\n",
      "  from pandas.core import (\n",
      "/home/lplab/.local/lib/python3.10/site-packages/pandas/core/arrays/masked.py:62: UserWarning: Pandas requires version '1.3.4' or newer of 'bottleneck' (version '1.3.2' currently installed).\n",
      "  from pandas.core import (\n",
      "/home/lplab/.local/lib/python3.10/site-packages/pandas/core/arrays/masked.py:62: UserWarning: Pandas requires version '1.3.4' or newer of 'bottleneck' (version '1.3.2' currently installed).\n",
      "  from pandas.core import (\n",
      "/home/lplab/.local/lib/python3.10/site-packages/pandas/core/arrays/masked.py:62: UserWarning: Pandas requires version '1.3.4' or newer of 'bottleneck' (version '1.3.2' currently installed).\n",
      "  from pandas.core import (\n",
      "/home/lplab/.local/lib/python3.10/site-packages/pandas/core/arrays/masked.py:62: UserWarning: Pandas requires version '1.3.4' or newer of 'bottleneck' (version '1.3.2' currently installed).\n",
      "  from pandas.core import (\n",
      "/home/lplab/.local/lib/python3.10/site-packages/pandas/core/arrays/masked.py:62: UserWarning: Pandas requires version '1.3.4' or newer of 'bottleneck' (version '1.3.2' currently installed).\n",
      "  from pandas.core import (\n",
      "/home/lplab/.local/lib/python3.10/site-packages/pandas/core/arrays/masked.py:62: UserWarning: Pandas requires version '1.3.4' or newer of 'bottleneck' (version '1.3.2' currently installed).\n",
      "  from pandas.core import (\n",
      "/home/lplab/.local/lib/python3.10/site-packages/pandas/core/arrays/masked.py:62: UserWarning: Pandas requires version '1.3.4' or newer of 'bottleneck' (version '1.3.2' currently installed).\n",
      "  from pandas.core import (\n",
      "/home/lplab/.local/lib/python3.10/site-packages/pandas/core/arrays/masked.py:62: UserWarning: Pandas requires version '1.3.4' or newer of 'bottleneck' (version '1.3.2' currently installed).\n",
      "  from pandas.core import (\n",
      "/home/lplab/.local/lib/python3.10/site-packages/pandas/core/arrays/masked.py:62: UserWarning: Pandas requires version '1.3.4' or newer of 'bottleneck' (version '1.3.2' currently installed).\n",
      "  from pandas.core import (\n",
      "/home/lplab/.local/lib/python3.10/site-packages/pandas/core/arrays/masked.py:62: UserWarning: Pandas requires version '1.3.4' or newer of 'bottleneck' (version '1.3.2' currently installed).\n",
      "  from pandas.core import (\n",
      "/home/lplab/.local/lib/python3.10/site-packages/pandas/core/arrays/masked.py:62: UserWarning: Pandas requires version '1.3.4' or newer of 'bottleneck' (version '1.3.2' currently installed).\n",
      "  from pandas.core import (\n",
      "/home/lplab/.local/lib/python3.10/site-packages/pandas/core/arrays/masked.py:62: UserWarning: Pandas requires version '1.3.4' or newer of 'bottleneck' (version '1.3.2' currently installed).\n",
      "  from pandas.core import (\n",
      "/home/lplab/.local/lib/python3.10/site-packages/pandas/core/arrays/masked.py:62: UserWarning: Pandas requires version '1.3.4' or newer of 'bottleneck' (version '1.3.2' currently installed).\n",
      "  from pandas.core import (\n",
      "/home/lplab/.local/lib/python3.10/site-packages/pandas/core/arrays/masked.py:62: UserWarning: Pandas requires version '1.3.4' or newer of 'bottleneck' (version '1.3.2' currently installed).\n",
      "  from pandas.core import (\n",
      "/home/lplab/.local/lib/python3.10/site-packages/pandas/core/arrays/masked.py:62: UserWarning: Pandas requires version '1.3.4' or newer of 'bottleneck' (version '1.3.2' currently installed).\n",
      "  from pandas.core import (\n",
      "/home/lplab/.local/lib/python3.10/site-packages/pandas/core/arrays/masked.py:62: UserWarning: Pandas requires version '1.3.4' or newer of 'bottleneck' (version '1.3.2' currently installed).\n",
      "  from pandas.core import (\n",
      "/home/lplab/.local/lib/python3.10/site-packages/pandas/core/arrays/masked.py:62: UserWarning: Pandas requires version '1.3.4' or newer of 'bottleneck' (version '1.3.2' currently installed).\n",
      "  from pandas.core import (\n",
      "/home/lplab/.local/lib/python3.10/site-packages/pandas/core/arrays/masked.py:62: UserWarning: Pandas requires version '1.3.4' or newer of 'bottleneck' (version '1.3.2' currently installed).\n",
      "  from pandas.core import (\n",
      "/home/lplab/.local/lib/python3.10/site-packages/pandas/core/arrays/masked.py:62: UserWarning: Pandas requires version '1.3.4' or newer of 'bottleneck' (version '1.3.2' currently installed).\n",
      "  from pandas.core import (\n",
      "/home/lplab/.local/lib/python3.10/site-packages/pandas/core/arrays/masked.py:62: UserWarning: Pandas requires version '1.3.4' or newer of 'bottleneck' (version '1.3.2' currently installed).\n",
      "  from pandas.core import (\n",
      "/home/lplab/.local/lib/python3.10/site-packages/pandas/core/arrays/masked.py:62: UserWarning: Pandas requires version '1.3.4' or newer of 'bottleneck' (version '1.3.2' currently installed).\n",
      "  from pandas.core import (\n",
      "/home/lplab/.local/lib/python3.10/site-packages/pandas/core/arrays/masked.py:62: UserWarning: Pandas requires version '1.3.4' or newer of 'bottleneck' (version '1.3.2' currently installed).\n",
      "  from pandas.core import (\n",
      "/home/lplab/.local/lib/python3.10/site-packages/pandas/core/arrays/masked.py:62: UserWarning: Pandas requires version '1.3.4' or newer of 'bottleneck' (version '1.3.2' currently installed).\n",
      "  from pandas.core import (\n",
      "                                                                                \r"
     ]
    },
    {
     "data": {
      "text/plain": [
       "[-0.006719578482184056]"
      ]
     },
     "execution_count": 29,
     "metadata": {},
     "output_type": "execute_result"
    }
   ],
   "source": [
    "trials.approxQuantile('trial_return', [0.05], 0.0)"
   ]
  },
  {
   "cell_type": "code",
   "execution_count": 30,
   "id": "d9793a97",
   "metadata": {},
   "outputs": [
    {
     "name": "stdout",
     "output_type": "stream",
     "text": [
      "+--------------------+\n",
      "|   avg(trial_return)|\n",
      "+--------------------+\n",
      "|-0.00671957848218...|\n",
      "+--------------------+\n",
      "\n"
     ]
    }
   ],
   "source": [
    "trials.orderBy(col('trial_return').asc()).\\\n",
    "limit(int(trials.count()/20)).\\\n",
    "agg(fun.avg(col(\"trial_return\"))).show()"
   ]
  },
  {
   "cell_type": "code",
   "execution_count": 31,
   "id": "01121613",
   "metadata": {},
   "outputs": [
    {
     "data": {
      "text/plain": [
       "<AxesSubplot:>"
      ]
     },
     "execution_count": 31,
     "metadata": {},
     "output_type": "execute_result"
    },
    {
     "data": {
      "image/png": "[encoded data removed]",
      "text/plain": [
       "<Figure size 432x288 with 1 Axes>"
      ]
     },
     "metadata": {
      "needs_background": "light"
     },
     "output_type": "display_data"
    }
   ],
   "source": [
    "import pandas\n",
    "mytrials=trials.toPandas()\n",
    "mytrials.plot.line()"
   ]
  },
  {
   "cell_type": "code",
   "execution_count": null,
   "id": "ca46b59f",
   "metadata": {},
   "outputs": [],
   "source": []
  }
 ],
 "metadata": {
  "kernelspec": {
   "display_name": "Python 3 (ipykernel)",
   "language": "python",
   "name": "python3"
  },
  "language_info": {
   "codemirror_mode": {
    "name": "ipython",
    "version": 3
   },
   "file_extension": ".py",
   "mimetype": "text/x-python",
   "name": "python",
   "nbconvert_exporter": "python",
   "pygments_lexer": "ipython3",
   "version": "3.10.12"
  }
 },
 "nbformat": 4,
 "nbformat_minor": 5
}
