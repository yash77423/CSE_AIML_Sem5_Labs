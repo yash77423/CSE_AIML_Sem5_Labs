{
 "cells": [
  {
   "cell_type": "markdown",
   "id": "770bda74",
   "metadata": {},
   "source": [
    "Q1. There are n applications for jobs in 8 companies. Company 1 absorbs candidates from all the domains. Company 2 selects candidates having AI, SE and Networking skill sets. C3 selects candidates having skill sets Big Data and system programming. C4 - C8 absorb candidates with skill sets in AI, SE, Networking, Big Data and system programming respectively. Help the companies to shortlist candidates using Apache Kafka. Consumer group 1 contains C2 and C3, Consumer Group 2 contains C4, C5, C6, C7 and C8 and Consumer Group 3 contains C1."
   ]
  },
  {
   "cell_type": "code",
   "execution_count": null,
   "id": "b52e0f88",
   "metadata": {},
   "outputs": [],
   "source": []
  }
 ],
 "metadata": {
  "kernelspec": {
   "display_name": "Python 3 (ipykernel)",
   "language": "python",
   "name": "python3"
  },
  "language_info": {
   "codemirror_mode": {
    "name": "ipython",
    "version": 3
   },
   "file_extension": ".py",
   "mimetype": "text/x-python",
   "name": "python",
   "nbconvert_exporter": "python",
   "pygments_lexer": "ipython3",
   "version": "3.10.12"
  }
 },
 "nbformat": 4,
 "nbformat_minor": 5
}
