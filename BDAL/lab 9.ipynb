{
 "cells": [
  {
   "cell_type": "code",
   "execution_count": 2,
   "id": "adaa8405",
   "metadata": {},
   "outputs": [
    {
     "name": "stdout",
     "output_type": "stream",
     "text": [
      "Estimated value of π: 3.145536\n"
     ]
    }
   ],
   "source": [
    "from pyspark.sql import SparkSession\n",
    "import random\n",
    "import math\n",
    "\n",
    "def monte_carlo_simulation(num_samples):\n",
    "    \"\"\"Run Monte Carlo simulation to estimate the value of π.\"\"\"\n",
    "    count_inside_circle = 0\n",
    "    for _ in range(num_samples):\n",
    "        x = random.random()\n",
    "        y = random.random()\n",
    "        distance = math.sqrt(x**2 + y**2)\n",
    "        if distance <= 1:\n",
    "            count_inside_circle += 1\n",
    "    return count_inside_circle\n",
    "\n",
    "def main():\n",
    "    spark = SparkSession.builder \\\n",
    "        .appName(\"Monte Carlo Simulation\") \\\n",
    "        .getOrCreate()\n",
    "\n",
    "\n",
    "    num_simulations = 100\n",
    "    samples_per_simulation = 10000\n",
    "\n",
    "   \n",
    "    simulations = spark.sparkContext.parallelize([samples_per_simulation] * num_simulations)\n",
    "\n",
    "\n",
    "    results = simulations.map(monte_carlo_simulation).collect()\n",
    "\n",
    "    total_inside_circle = sum(results)\n",
    "\n",
    "    estimated_pi = (total_inside_circle / (num_simulations * samples_per_simulation)) * 4\n",
    "\n",
    "    print(f\"Estimated value of π: {estimated_pi}\")\n",
    "\n",
    "    spark.stop()\n",
    "\n",
    "if __name__ == \"__main__\":\n",
    "    main()\n"
   ]
  },
  {
   "cell_type": "code",
   "execution_count": 4,
   "id": "63cc226f",
   "metadata": {},
   "outputs": [
    {
     "name": "stdout",
     "output_type": "stream",
     "text": [
      "Estimated average height from simulations: 169.86 cm\n"
     ]
    }
   ],
   "source": [
    "from pyspark.sql import SparkSession\n",
    "import numpy as np\n",
    "import scipy.stats as stats\n",
    "\n",
    "def generate_normal_samples(mean, std_dev, num_samples):\n",
    "    \"\"\"Generate samples from a normal distribution.\"\"\"\n",
    "    return np.random.normal(mean, std_dev, num_samples)\n",
    "\n",
    "def simulate_heights(num_samples, mean, std_dev):\n",
    "    \"\"\"Simulate individual heights based on normal distribution.\"\"\"\n",
    "   \n",
    "    heights = generate_normal_samples(mean, std_dev, num_samples)\n",
    "    \n",
    " \n",
    "    return np.mean(heights)\n",
    "\n",
    "def main():\n",
    " \n",
    "    spark = SparkSession.builder \\\n",
    "        .appName(\"Probability Distributions with PySpark\") \\\n",
    "        .getOrCreate()\n",
    "\n",
    "    \n",
    "    mean_height = 170  \n",
    "    std_dev_height = 10  \n",
    "    num_simulations = 100\n",
    "    samples_per_simulation = 1000\n",
    "\n",
    "    simulations = spark.sparkContext.parallelize([samples_per_simulation] * num_simulations)\n",
    "\n",
    "    results = simulations.map(lambda n: simulate_heights(n, mean_height, std_dev_height)).collect()\n",
    "\n",
    "    average_height = np.mean(results)\n",
    "\n",
    "    print(f\"Estimated average height from simulations: {average_height:.2f} cm\")\n",
    "\n",
    "    spark.stop()\n",
    "\n",
    "if __name__ == \"__main__\":\n",
    "    main()\n",
    "\n",
    "    "
   ]
  }
 ],
 "metadata": {
  "kernelspec": {
   "display_name": "Python 3 (ipykernel)",
   "language": "python",
   "name": "python3"
  },
  "language_info": {
   "codemirror_mode": {
    "name": "ipython",
    "version": 3
   },
   "file_extension": ".py",
   "mimetype": "text/x-python",
   "name": "python",
   "nbconvert_exporter": "python",
   "pygments_lexer": "ipython3",
   "version": "3.10.12"
  }
 },
 "nbformat": 4,
 "nbformat_minor": 5
}
