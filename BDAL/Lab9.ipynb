{
 "cells": [
  {
   "cell_type": "markdown",
   "id": "7d9df962",
   "metadata": {},
   "source": [
    "# 1. Implement a PySpark Script for Monte Carlo Simulations"
   ]
  },
  {
   "cell_type": "code",
   "execution_count": 1,
   "id": "b427c905",
   "metadata": {},
   "outputs": [
    {
     "name": "stderr",
     "output_type": "stream",
     "text": [
      "24/10/07 10:02:32 WARN Utils: Your hostname, PGLab2 resolves to a loopback address: 127.0.1.1; using 172.16.57.83 instead (on interface enp1s0)\n",
      "24/10/07 10:02:32 WARN Utils: Set SPARK_LOCAL_IP if you need to bind to another address\n",
      "Setting default log level to \"WARN\".\n",
      "To adjust logging level use sc.setLogLevel(newLevel). For SparkR, use setLogLevel(newLevel).\n",
      "24/10/07 10:02:32 WARN NativeCodeLoader: Unable to load native-hadoop library for your platform... using builtin-java classes where applicable\n",
      "24/10/07 10:02:32 WARN Utils: Service 'SparkUI' could not bind on port 4040. Attempting port 4041.\n",
      "                                                                                \r"
     ]
    },
    {
     "name": "stdout",
     "output_type": "stream",
     "text": [
      "Estimated value of π: 3.139152\n"
     ]
    }
   ],
   "source": [
    "from pyspark.sql import SparkSession\n",
    "from pyspark.sql import functions as F\n",
    "import random\n",
    "\n",
    "# Create a Spark session\n",
    "spark = SparkSession.builder.appName(\"MonteCarloSimulation\").getOrCreate()\n",
    "\n",
    "# Number of simulations\n",
    "num_samples = 1000000\n",
    "\n",
    "# Function to generate random points and count how many fall inside the unit circle\n",
    "def monte_carlo_simulation(num_samples):\n",
    "    inside_circle = 0\n",
    "    for _ in range(num_samples):\n",
    "        x = random.uniform(0, 1)\n",
    "        y = random.uniform(0, 1)\n",
    "        if x**2 + y**2 <= 1:\n",
    "            inside_circle += 1\n",
    "    return inside_circle\n",
    "\n",
    "# Create an RDD with the number of simulations per partition\n",
    "num_partitions = 10\n",
    "samples_per_partition = num_samples // num_partitions\n",
    "rdd = spark.sparkContext.parallelize(range(num_partitions))\n",
    "\n",
    "# Run Monte Carlo simulations in parallel\n",
    "results = rdd.map(lambda _: monte_carlo_simulation(samples_per_partition)).collect()\n",
    "\n",
    "# Calculate π\n",
    "total_inside_circle = sum(results)\n",
    "estimated_pi = (total_inside_circle / num_samples) * 4\n",
    "\n",
    "print(f\"Estimated value of π: {estimated_pi}\")\n",
    "\n",
    "# Stop the Spark session\n",
    "spark.stop()\n"
   ]
  },
  {
   "cell_type": "markdown",
   "id": "f3224b71",
   "metadata": {},
   "source": [
    "# 2. Define and Apply Probability Distributions in PySpark"
   ]
  },
  {
   "cell_type": "code",
   "execution_count": 2,
   "id": "544e91af",
   "metadata": {},
   "outputs": [
    {
     "name": "stderr",
     "output_type": "stream",
     "text": [
      "24/10/07 10:03:17 WARN Utils: Service 'SparkUI' could not bind on port 4040. Attempting port 4041.\n",
      "                                                                                \r"
     ]
    },
    {
     "name": "stdout",
     "output_type": "stream",
     "text": [
      "Estimated value of π with probability distributions: 4.0\n"
     ]
    }
   ],
   "source": [
    "from pyspark.sql import SparkSession\n",
    "from pyspark.sql import functions as F\n",
    "import numpy as np\n",
    "\n",
    "# Create a Spark session\n",
    "spark = SparkSession.builder.appName(\"MonteCarloWithDistributions\").getOrCreate()\n",
    "\n",
    "# Function to generate random parameters and run the simulation\n",
    "def monte_carlo_with_distributions(num_samples):\n",
    "    inside_circle = 0\n",
    "    for _ in range(num_samples):\n",
    "        # Generate random numbers with normal distribution for x and y\n",
    "        x = np.random.normal(0.5, 0.1)  # Mean = 0.5, Std = 0.1\n",
    "        y = np.random.normal(0.5, 0.1)\n",
    "        \n",
    "        # Check if the point is inside the unit circle\n",
    "        if 0 <= x <= 1 and 0 <= y <= 1 and (x - 0.5)**2 + (y - 0.5)**2 <= (0.5)**2:\n",
    "            inside_circle += 1\n",
    "    return inside_circle\n",
    "\n",
    "# Number of simulations\n",
    "num_samples = 1000000\n",
    "num_partitions = 10\n",
    "samples_per_partition = num_samples // num_partitions\n",
    "\n",
    "# Create an RDD with the number of simulations per partition\n",
    "rdd = spark.sparkContext.parallelize(range(num_partitions))\n",
    "\n",
    "# Run Monte Carlo simulations in parallel\n",
    "results = rdd.map(lambda _: monte_carlo_with_distributions(samples_per_partition)).collect()\n",
    "\n",
    "# Calculate π\n",
    "total_inside_circle = sum(results)\n",
    "estimated_pi = (total_inside_circle / num_samples) * 4\n",
    "\n",
    "print(f\"Estimated value of π with probability distributions: {estimated_pi}\")\n",
    "\n",
    "# Stop the Spark session\n",
    "spark.stop()\n"
   ]
  },
  {
   "cell_type": "code",
   "execution_count": null,
   "id": "13bb78c1",
   "metadata": {},
   "outputs": [],
   "source": []
  }
 ],
 "metadata": {
  "kernelspec": {
   "display_name": "Python 3 (ipykernel)",
   "language": "python",
   "name": "python3"
  },
  "language_info": {
   "codemirror_mode": {
    "name": "ipython",
    "version": 3
   },
   "file_extension": ".py",
   "mimetype": "text/x-python",
   "name": "python",
   "nbconvert_exporter": "python",
   "pygments_lexer": "ipython3",
   "version": "3.10.12"
  }
 },
 "nbformat": 4,
 "nbformat_minor": 5
}
